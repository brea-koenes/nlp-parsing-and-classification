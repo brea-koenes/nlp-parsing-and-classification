{
 "cells": [
  {
   "cell_type": "markdown",
   "id": "04cf9dee",
   "metadata": {
    "id": "04cf9dee"
   },
   "source": [
    "# Linear Text Classification\n",
    "\n",
    "## By Brea Koenes"
   ]
  },
  {
   "cell_type": "markdown",
   "id": "89576026-8797-4b9f-b2a2-fbdee15990ab",
   "metadata": {
    "id": "89576026-8797-4b9f-b2a2-fbdee15990ab",
    "tags": []
   },
   "source": [
    "### Overview\n",
    "\n",
    "I use python libraries (NLTK) to do NLP Linear Text Classification.\n",
    "\n",
    "NLTK is an open-source library that provides various tools and modules for working with human language data. It offers functionalities for tasks like tokenization, stemming, tagging, parsing, and even some basic machine learning implementations."
   ]
  },
  {
   "cell_type": "code",
   "execution_count": 1,
   "id": "3121b8fb-8495-45fd-9e75-c712f81e7f47",
   "metadata": {
    "id": "3121b8fb-8495-45fd-9e75-c712f81e7f47"
   },
   "outputs": [],
   "source": [
    "import nltk"
   ]
  },
  {
   "cell_type": "markdown",
   "id": "c71fcec7-3821-467f-90bd-9e7651cf91cf",
   "metadata": {
    "execution": {
     "iopub.execute_input": "2023-10-29T18:42:23.553873Z",
     "iopub.status.busy": "2023-10-29T18:42:23.553873Z",
     "iopub.status.idle": "2023-10-29T18:42:23.574867Z",
     "shell.execute_reply": "2023-10-29T18:42:23.573912Z",
     "shell.execute_reply.started": "2023-10-29T18:42:23.553873Z"
    },
    "id": "c71fcec7-3821-467f-90bd-9e7651cf91cf"
   },
   "source": [
    "### 1 - Data Preparation\n",
    "\n",
    "Import the data into four lists of reviews:\n",
    "\n",
    "`neg_train` ('data/train/allneg.txt') for the negative training data,\n",
    "`pos_train` ('data/train/allpos.txt') for the positive training data,\n",
    "`neg_test` ('data/test/allneg.txt') for the negative testing data,\n",
    "`pos_test` ('data/test/allpos.txt') for the positive testing data\n",
    "\n",
    "Each line MUST HAVE spaces removed from its start and end."
   ]
  },
  {
   "cell_type": "code",
   "execution_count": 3,
   "id": "6d7f9555-fa9b-4fed-8265-80169942f26b",
   "metadata": {},
   "outputs": [],
   "source": [
    "# Function to read in data\n",
    "def GetReviewsList(path):\n",
    "    with open(path) as f:\n",
    "        lines = f.readlines()\n",
    "\n",
    "    return lines"
   ]
  },
  {
   "cell_type": "code",
   "execution_count": 4,
   "id": "39254c48-11f4-473e-8700-7c77f3675f7f",
   "metadata": {
    "id": "39254c48-11f4-473e-8700-7c77f3675f7f",
    "tags": []
   },
   "outputs": [],
   "source": [
    "# Read data\n",
    "path = './data/'\n",
    "neg_train = GetReviewsList(path+'train/allneg.txt')\n",
    "pos_train = GetReviewsList(path+'train/allpos.txt')\n",
    "neg_test = GetReviewsList(path+'test/allneg.txt')\n",
    "pos_test = GetReviewsList(path+'test/allpos.txt')"
   ]
  },
  {
   "cell_type": "markdown",
   "id": "f1f80335-4191-46ea-8a13-1a50aaa74cd6",
   "metadata": {
    "id": "f1f80335-4191-46ea-8a13-1a50aaa74cd6"
   },
   "source": [
    "### 2 - Data Preprocessing:\n",
    "NLTK requires text data to be preprocessed and converted into a format suitable for its classifiers. Preprocessing may include several steps including (but not restricted) to:\n",
    "\n",
    "- tokenization\n",
    "- lowercasing\n",
    "- removing punctuation\n",
    "- removing 'stop words'\n"
   ]
  },
  {
   "cell_type": "markdown",
   "id": "ace6af39-c3ba-42e8-86d6-e67d4afca5fb",
   "metadata": {
    "id": "ace6af39-c3ba-42e8-86d6-e67d4afca5fb"
   },
   "source": [
    "### 2a - Tokenization\n",
    "The first step in NLP Data Processing is tokenization. Tokenization is the process of breaking down a text (usually a sentence or a paragraph, and in our case, a review) into smaller units called tokens. These tokens can be individual words, phrases, or even characters, depending on the level of granularity required for the specific NLP task.\n",
    "\n",
    "Without tokenization, NLP models have difficulty understanding the structure and meaning of a given text.\n",
    "\n",
    "Create a function called **'tokenizeReview'** that takes a list of reviews and return a list of tokenizen words for each review. \n",
    "\n",
    "Load punkt from ntlk (`nltk.download('punkt')`). This works with the tokenizer to handle abbreviations, words that often start sentences, and collocations."
   ]
  },
  {
   "cell_type": "code",
   "execution_count": 5,
   "id": "81cfdcec-5ef8-47a7-b8b1-f5e803ac697b",
   "metadata": {
    "id": "81cfdcec-5ef8-47a7-b8b1-f5e803ac697b",
    "tags": []
   },
   "outputs": [
    {
     "name": "stderr",
     "output_type": "stream",
     "text": [
      "[nltk_data] Downloading package punkt to /Users/bkoenes/nltk_data...\n",
      "[nltk_data]   Package punkt is already up-to-date!\n",
      "[nltk_data] Downloading package punkt_tab to\n",
      "[nltk_data]     /Users/bkoenes/nltk_data...\n",
      "[nltk_data]   Package punkt_tab is already up-to-date!\n"
     ]
    }
   ],
   "source": [
    "nltk.download('punkt')\n",
    "import nltk\n",
    "nltk.download('punkt_tab')\n",
    "from nltk.tokenize import word_tokenize"
   ]
  },
  {
   "cell_type": "code",
   "execution_count": 7,
   "id": "f0e764d1-df65-4dc7-ac11-80ce10607b35",
   "metadata": {},
   "outputs": [],
   "source": [
    "# Tokenize reviews function\n",
    "def tokenizeReview(reviews):\n",
    "    tokenized_reviews = []\n",
    "    for review in reviews:\n",
    "        tokens = word_tokenize(review)\n",
    "        tokenized_reviews.append(tokens)\n",
    "    return tokenized_reviews"
   ]
  },
  {
   "cell_type": "markdown",
   "id": "f0496852-d6ec-467c-a1df-9a61504207fc",
   "metadata": {
    "id": "f0496852-d6ec-467c-a1df-9a61504207fc"
   },
   "source": [
    "### 2b - Lowercasing, removing punctuation and 'stop words'\n",
    "\n",
    "Create a function called `cleanTokenizedReview` that takes in one list of tokenized reviews and return an updated list with all tokens in **lowercase**, without **punctuation** and without **'stop words'**."
   ]
  },
  {
   "cell_type": "code",
   "execution_count": 6,
   "id": "d2f1f60a-fb98-4826-9cc8-85070296b996",
   "metadata": {
    "id": "d2f1f60a-fb98-4826-9cc8-85070296b996",
    "tags": []
   },
   "outputs": [
    {
     "name": "stderr",
     "output_type": "stream",
     "text": [
      "[nltk_data] Downloading package stopwords to\n",
      "[nltk_data]     /Users/bkoenes/nltk_data...\n",
      "[nltk_data]   Package stopwords is already up-to-date!\n"
     ]
    }
   ],
   "source": [
    "import string\n",
    "from nltk.corpus import stopwords\n",
    "nltk.download('stopwords')\n",
    "\n",
    "# Clean tokenized reviews function\n",
    "def cleanTokenizedReview(tokenized_reviews):\n",
    "    \n",
    "    # Initialize\n",
    "    punctuation_list = list(string.punctuation)\n",
    "    stop_words = stopwords.words('english')\n",
    "\n",
    "    cleaned_reviews = []\n",
    "\n",
    "    for review in tokenized_reviews:\n",
    "        cleaned_tokens = []\n",
    "\n",
    "        # Lowercase\n",
    "        for token in review:\n",
    "            token = token.lower()\n",
    "\n",
    "            # No punctuation or stop words\n",
    "            if token in punctuation_list or token in stop_words:\n",
    "                continue\n",
    "\n",
    "            cleaned_tokens.append(token)\n",
    "\n",
    "        cleaned_reviews.append(cleaned_tokens)\n",
    "\n",
    "    return cleaned_reviews"
   ]
  },
  {
   "cell_type": "markdown",
   "id": "2ab99b5c-b0b7-4364-97f0-70e9eaae402e",
   "metadata": {
    "id": "2ab99b5c-b0b7-4364-97f0-70e9eaae402e"
   },
   "source": [
    "### 2c - Tokenize and Clean the four lists of reviews\n",
    "Update 'neg_train', 'pos_train', 'neg_test', 'pos_test' using the functions."
   ]
  },
  {
   "cell_type": "code",
   "execution_count": 7,
   "id": "d3300376-76a7-436b-bcda-410dabce446c",
   "metadata": {
    "id": "d3300376-76a7-436b-bcda-410dabce446c",
    "tags": []
   },
   "outputs": [],
   "source": [
    "# Update lists\n",
    "tokenized_neg_train = tokenizeReview(neg_train)\n",
    "tokenized_pos_train = tokenizeReview(pos_train)\n",
    "tokenized_neg_test = tokenizeReview(neg_test)\n",
    "tokenized_pos_test = tokenizeReview(pos_test)\n",
    "\n",
    "neg_train = cleanTokenizedReview(tokenized_neg_train)\n",
    "pos_train = cleanTokenizedReview(tokenized_pos_train)\n",
    "neg_test = cleanTokenizedReview(tokenized_neg_test)\n",
    "pos_test = cleanTokenizedReview(tokenized_pos_test)"
   ]
  },
  {
   "cell_type": "markdown",
   "id": "3b52aaf2-4947-4e39-bb9a-93f87bc53ff4",
   "metadata": {
    "execution": {
     "iopub.execute_input": "2023-07-30T21:14:43.787722Z",
     "iopub.status.busy": "2023-07-30T21:14:43.787722Z",
     "iopub.status.idle": "2023-07-30T21:14:43.812264Z",
     "shell.execute_reply": "2023-07-30T21:14:43.811312Z",
     "shell.execute_reply.started": "2023-07-30T21:14:43.787722Z"
    },
    "id": "3b52aaf2-4947-4e39-bb9a-93f87bc53ff4",
    "tags": []
   },
   "source": [
    "### 3a - Feature Extraction\n",
    "\n",
    "NLTK's classifiers work with features represented as dictionaries (dict), where each word is a feature and its value is typically set to `True`.\n",
    "\n",
    "Create a function called `featureExtraction` that takes a list of cleaned and tokenized reviews and a label (**'pos'** for positive reviews and **'neg'** for negative reviews) and returns a list of tuples composed of a Python dict (with every word as key and `True` as value) and the label associated to that review."
   ]
  },
  {
   "cell_type": "code",
   "execution_count": 8,
   "id": "e501a353-0df6-4eac-b4a5-7e98804edb3a",
   "metadata": {
    "id": "e501a353-0df6-4eac-b4a5-7e98804edb3a",
    "tags": []
   },
   "outputs": [],
   "source": [
    "# Extraxt features function\n",
    "def featureExtraction(tokenized_reviews, label):\n",
    "    feature_sets = []\n",
    "\n",
    "    for review in tokenized_reviews:\n",
    "        feature_dict = {}\n",
    "        \n",
    "        for word in review:\n",
    "            if isinstance(word, str):\n",
    "                feature_dict[word] = True\n",
    "        \n",
    "        feature_sets.append((feature_dict, label))\n",
    "        \n",
    "    return feature_sets"
   ]
  },
  {
   "cell_type": "markdown",
   "id": "7616c843-b264-49d2-8c91-5ec15c04f297",
   "metadata": {
    "id": "7616c843-b264-49d2-8c91-5ec15c04f297"
   },
   "source": [
    "### 3b - Apply Feature Extraction\n",
    "Update 'neg_train', 'pos_train', 'neg_test', 'pos_test' using the `featureExtraction` function."
   ]
  },
  {
   "cell_type": "code",
   "execution_count": 9,
   "id": "96a5466f-47b5-4c61-aea5-d0a122896d18",
   "metadata": {
    "id": "96a5466f-47b5-4c61-aea5-d0a122896d18",
    "tags": []
   },
   "outputs": [],
   "source": [
    "# Update lists with feature extraction\n",
    "neg_train = featureExtraction(neg_train, 'neg')\n",
    "pos_train = featureExtraction(pos_train, 'pos')\n",
    "neg_test = featureExtraction(neg_test, 'neg')\n",
    "pos_test = featureExtraction(pos_test, 'pos')"
   ]
  },
  {
   "cell_type": "markdown",
   "id": "2f382069-7c89-4ca0-95c8-c0c115fdadec",
   "metadata": {
    "id": "2f382069-7c89-4ca0-95c8-c0c115fdadec"
   },
   "source": [
    "### 4 - Prepare for training\n",
    "\n",
    "Create a unified train list (joining 'neg_train' and 'pos_train'). After creating this unified dataset, shuffle the training data for better training. \n",
    "Do the same for the test reviews ('neg_test', 'pos_test').\n"
   ]
  },
  {
   "cell_type": "code",
   "execution_count": 10,
   "id": "4ba670f5-d364-492d-9e98-96ca57da2db9",
   "metadata": {
    "id": "4ba670f5-d364-492d-9e98-96ca57da2db9",
    "tags": []
   },
   "outputs": [],
   "source": [
    "import random\n",
    "\n",
    "# Unify dataset\n",
    "train_features = neg_train + pos_train\n",
    "test_features = neg_test + pos_test\n",
    "\n",
    "# Shuffle\n",
    "random.shuffle(train_features)\n",
    "random.shuffle(test_features)"
   ]
  },
  {
   "cell_type": "markdown",
   "id": "4be27048-27f5-48f4-aa2f-58f579eba01b",
   "metadata": {
    "id": "4be27048-27f5-48f4-aa2f-58f579eba01b"
   },
   "source": [
    "### 5 - Training Naive Bayes Classifier\n",
    "From `nltk.classify` import the `NaiveBayesClassifier`.\n",
    "\n",
    "Create a Naive Bayes Classifier called `nb_classifier` calling the `NaiveBayesClassifier.train` function on the 'train_features'."
   ]
  },
  {
   "cell_type": "code",
   "execution_count": 11,
   "id": "643efed8-5672-4dec-9ee8-4bd11e0e8f34",
   "metadata": {
    "id": "643efed8-5672-4dec-9ee8-4bd11e0e8f34",
    "tags": []
   },
   "outputs": [],
   "source": [
    "from nltk.classify import NaiveBayesClassifier\n",
    "\n",
    "# Call classifier function on training features\n",
    "nb_classifier = NaiveBayesClassifier.train(train_features)"
   ]
  },
  {
   "cell_type": "markdown",
   "id": "917b06fc-61ba-4939-8bb4-bb04a0b36e75",
   "metadata": {
    "id": "917b06fc-61ba-4939-8bb4-bb04a0b36e75"
   },
   "source": [
    "### 6 - Naive Bayes - Model evaluation\n",
    "\n",
    "Using the `classifier` object created, separate labels from data and run the model."
   ]
  },
  {
   "cell_type": "code",
   "execution_count": 12,
   "id": "8458c5a4-d355-4dc9-afae-8f2f87f2ded5",
   "metadata": {
    "id": "8458c5a4-d355-4dc9-afae-8f2f87f2ded5",
    "tags": []
   },
   "outputs": [],
   "source": [
    "# Seperate labels\n",
    "train_labels = [label for (_, label) in train_features]\n",
    "train_data = [features for features, _ in train_features]    \n",
    "test_labels = [label for (_, label) in test_features]\n",
    "test_data = [features for features, _ in test_features]\n",
    "\n",
    "# Run model\n",
    "nb_predictions = nb_classifier.classify_many(test_data)"
   ]
  },
  {
   "cell_type": "markdown",
   "id": "52ee2caa-ec9a-4d99-ab69-e415c100a3a9",
   "metadata": {
    "id": "52ee2caa-ec9a-4d99-ab69-e415c100a3a9"
   },
   "source": [
    "### 7 - Naive Bayes - Calculate the Accuracy"
   ]
  },
  {
   "cell_type": "code",
   "execution_count": 13,
   "id": "d9930b7d-f6f9-4fbd-9239-7aaca876db74",
   "metadata": {
    "id": "d9930b7d-f6f9-4fbd-9239-7aaca876db74",
    "tags": []
   },
   "outputs": [
    {
     "name": "stdout",
     "output_type": "stream",
     "text": [
      "Naive Bayes\n",
      "Testing data accuracy: 0.8414\n"
     ]
    }
   ],
   "source": [
    "# Calculate accuracy from predictions\n",
    "correct_predictions = sum(1 for pred_label, true_label in zip(nb_predictions, test_labels) if pred_label == true_label)\n",
    "nb_test_accuracy = correct_predictions / len(test_labels)\n",
    "\n",
    "# Print results\n",
    "print('Naive Bayes')\n",
    "print('Testing data accuracy:', nb_test_accuracy)"
   ]
  },
  {
   "cell_type": "markdown",
   "id": "49a6daac-a2ea-4522-8e72-546e0e0ad4e7",
   "metadata": {
    "id": "49a6daac-a2ea-4522-8e72-546e0e0ad4e7"
   },
   "source": [
    "### 8 - Training Perceptron Classifier\n",
    "\n",
    "For the Perceptron, we will use `sklearn` instead of `NTLK` library. We will need to convert the feature dictionaries to feature vectors."
   ]
  },
  {
   "cell_type": "code",
   "execution_count": 14,
   "id": "c98820a2-c176-47bb-b61e-a8061153b983",
   "metadata": {
    "id": "c98820a2-c176-47bb-b61e-a8061153b983"
   },
   "outputs": [],
   "source": [
    "from sklearn.linear_model import Perceptron \n",
    "from sklearn.feature_extraction import DictVectorizer"
   ]
  },
  {
   "cell_type": "markdown",
   "id": "2c66f95d-19fb-458b-aa7a-9affe1d06884",
   "metadata": {
    "id": "2c66f95d-19fb-458b-aa7a-9affe1d06884"
   },
   "source": [
    "Feature dictionaries are convenient for representing features in a human-readable format but most machine learning algorithms, including the Perceptron model from scikit-learn, expect input data in the form of feature vectors, which are numerical arrays.\n",
    "\n",
    "Create an object called `vectorizer` from the `DictVectorizer` function. Pass `sparse=True` as a parameter.\n",
    "\n",
    "Create an object called `X_train_vec` from `vectorizer.fit_transform` using `train_data`.\n",
    "\n",
    "Create an object called `X_test_vec` from `vectorizer.transform` using `test_data`."
   ]
  },
  {
   "cell_type": "code",
   "execution_count": 15,
   "id": "8767cde0-63ae-4c10-b255-a15eb262e8e0",
   "metadata": {
    "id": "8767cde0-63ae-4c10-b255-a15eb262e8e0",
    "tags": []
   },
   "outputs": [],
   "source": [
    "vectorizer = DictVectorizer(sparse=True)\n",
    "\n",
    "X_train_vec = vectorizer.fit_transform(train_data)\n",
    "X_test_vec = vectorizer.transform(test_data)"
   ]
  },
  {
   "cell_type": "markdown",
   "id": "ec5a1f3c-ccdf-4212-8d0a-d3247f12945a",
   "metadata": {
    "id": "ec5a1f3c-ccdf-4212-8d0a-d3247f12945a"
   },
   "source": [
    "Do the same for the labels.\n",
    "\n",
    "Create an object called `y_train` from train_labels by replacing 'neg' with 0 and 'pos' with 1.\n",
    "\n",
    "Create an object called `y_test` from test_labels by replacing 'neg' with 0 and 'pos' with 1.\n"
   ]
  },
  {
   "cell_type": "code",
   "execution_count": 16,
   "id": "019fa64a-b737-4090-8ec6-b135c8c62ec9",
   "metadata": {
    "id": "019fa64a-b737-4090-8ec6-b135c8c62ec9",
    "tags": []
   },
   "outputs": [],
   "source": [
    "y_train = [0 if label == 'neg' else 1 for label in train_labels]\n",
    "y_test = [0 if label == 'neg' else 1 for label in test_labels]"
   ]
  },
  {
   "cell_type": "markdown",
   "id": "c60f7b03-bad9-44bd-803f-c4d1190a0900",
   "metadata": {
    "id": "c60f7b03-bad9-44bd-803f-c4d1190a0900"
   },
   "source": [
    "Create and train the Perceptron model.\n",
    "\n",
    "Create an object called `perceptron_model`. The parameter 'max_iter' is the number of epochs. Fit, or train, the model."
   ]
  },
  {
   "cell_type": "code",
   "execution_count": 17,
   "id": "dfaee128-323b-40b6-9825-4aa910658497",
   "metadata": {
    "id": "dfaee128-323b-40b6-9825-4aa910658497",
    "tags": []
   },
   "outputs": [
    {
     "name": "stderr",
     "output_type": "stream",
     "text": [
      "/opt/anaconda3/lib/python3.12/site-packages/sklearn/linear_model/_stochastic_gradient.py:744: ConvergenceWarning: Maximum number of iteration reached before convergence. Consider increasing max_iter to improve the fit.\n",
      "  warnings.warn(\n"
     ]
    },
    {
     "data": {
      "text/html": [
       "<style>#sk-container-id-1 {\n",
       "  /* Definition of color scheme common for light and dark mode */\n",
       "  --sklearn-color-text: black;\n",
       "  --sklearn-color-line: gray;\n",
       "  /* Definition of color scheme for unfitted estimators */\n",
       "  --sklearn-color-unfitted-level-0: #fff5e6;\n",
       "  --sklearn-color-unfitted-level-1: #f6e4d2;\n",
       "  --sklearn-color-unfitted-level-2: #ffe0b3;\n",
       "  --sklearn-color-unfitted-level-3: chocolate;\n",
       "  /* Definition of color scheme for fitted estimators */\n",
       "  --sklearn-color-fitted-level-0: #f0f8ff;\n",
       "  --sklearn-color-fitted-level-1: #d4ebff;\n",
       "  --sklearn-color-fitted-level-2: #b3dbfd;\n",
       "  --sklearn-color-fitted-level-3: cornflowerblue;\n",
       "\n",
       "  /* Specific color for light theme */\n",
       "  --sklearn-color-text-on-default-background: var(--sg-text-color, var(--theme-code-foreground, var(--jp-content-font-color1, black)));\n",
       "  --sklearn-color-background: var(--sg-background-color, var(--theme-background, var(--jp-layout-color0, white)));\n",
       "  --sklearn-color-border-box: var(--sg-text-color, var(--theme-code-foreground, var(--jp-content-font-color1, black)));\n",
       "  --sklearn-color-icon: #696969;\n",
       "\n",
       "  @media (prefers-color-scheme: dark) {\n",
       "    /* Redefinition of color scheme for dark theme */\n",
       "    --sklearn-color-text-on-default-background: var(--sg-text-color, var(--theme-code-foreground, var(--jp-content-font-color1, white)));\n",
       "    --sklearn-color-background: var(--sg-background-color, var(--theme-background, var(--jp-layout-color0, #111)));\n",
       "    --sklearn-color-border-box: var(--sg-text-color, var(--theme-code-foreground, var(--jp-content-font-color1, white)));\n",
       "    --sklearn-color-icon: #878787;\n",
       "  }\n",
       "}\n",
       "\n",
       "#sk-container-id-1 {\n",
       "  color: var(--sklearn-color-text);\n",
       "}\n",
       "\n",
       "#sk-container-id-1 pre {\n",
       "  padding: 0;\n",
       "}\n",
       "\n",
       "#sk-container-id-1 input.sk-hidden--visually {\n",
       "  border: 0;\n",
       "  clip: rect(1px 1px 1px 1px);\n",
       "  clip: rect(1px, 1px, 1px, 1px);\n",
       "  height: 1px;\n",
       "  margin: -1px;\n",
       "  overflow: hidden;\n",
       "  padding: 0;\n",
       "  position: absolute;\n",
       "  width: 1px;\n",
       "}\n",
       "\n",
       "#sk-container-id-1 div.sk-dashed-wrapped {\n",
       "  border: 1px dashed var(--sklearn-color-line);\n",
       "  margin: 0 0.4em 0.5em 0.4em;\n",
       "  box-sizing: border-box;\n",
       "  padding-bottom: 0.4em;\n",
       "  background-color: var(--sklearn-color-background);\n",
       "}\n",
       "\n",
       "#sk-container-id-1 div.sk-container {\n",
       "  /* jupyter's `normalize.less` sets `[hidden] { display: none; }`\n",
       "     but bootstrap.min.css set `[hidden] { display: none !important; }`\n",
       "     so we also need the `!important` here to be able to override the\n",
       "     default hidden behavior on the sphinx rendered scikit-learn.org.\n",
       "     See: https://github.com/scikit-learn/scikit-learn/issues/21755 */\n",
       "  display: inline-block !important;\n",
       "  position: relative;\n",
       "}\n",
       "\n",
       "#sk-container-id-1 div.sk-text-repr-fallback {\n",
       "  display: none;\n",
       "}\n",
       "\n",
       "div.sk-parallel-item,\n",
       "div.sk-serial,\n",
       "div.sk-item {\n",
       "  /* draw centered vertical line to link estimators */\n",
       "  background-image: linear-gradient(var(--sklearn-color-text-on-default-background), var(--sklearn-color-text-on-default-background));\n",
       "  background-size: 2px 100%;\n",
       "  background-repeat: no-repeat;\n",
       "  background-position: center center;\n",
       "}\n",
       "\n",
       "/* Parallel-specific style estimator block */\n",
       "\n",
       "#sk-container-id-1 div.sk-parallel-item::after {\n",
       "  content: \"\";\n",
       "  width: 100%;\n",
       "  border-bottom: 2px solid var(--sklearn-color-text-on-default-background);\n",
       "  flex-grow: 1;\n",
       "}\n",
       "\n",
       "#sk-container-id-1 div.sk-parallel {\n",
       "  display: flex;\n",
       "  align-items: stretch;\n",
       "  justify-content: center;\n",
       "  background-color: var(--sklearn-color-background);\n",
       "  position: relative;\n",
       "}\n",
       "\n",
       "#sk-container-id-1 div.sk-parallel-item {\n",
       "  display: flex;\n",
       "  flex-direction: column;\n",
       "}\n",
       "\n",
       "#sk-container-id-1 div.sk-parallel-item:first-child::after {\n",
       "  align-self: flex-end;\n",
       "  width: 50%;\n",
       "}\n",
       "\n",
       "#sk-container-id-1 div.sk-parallel-item:last-child::after {\n",
       "  align-self: flex-start;\n",
       "  width: 50%;\n",
       "}\n",
       "\n",
       "#sk-container-id-1 div.sk-parallel-item:only-child::after {\n",
       "  width: 0;\n",
       "}\n",
       "\n",
       "/* Serial-specific style estimator block */\n",
       "\n",
       "#sk-container-id-1 div.sk-serial {\n",
       "  display: flex;\n",
       "  flex-direction: column;\n",
       "  align-items: center;\n",
       "  background-color: var(--sklearn-color-background);\n",
       "  padding-right: 1em;\n",
       "  padding-left: 1em;\n",
       "}\n",
       "\n",
       "\n",
       "/* Toggleable style: style used for estimator/Pipeline/ColumnTransformer box that is\n",
       "clickable and can be expanded/collapsed.\n",
       "- Pipeline and ColumnTransformer use this feature and define the default style\n",
       "- Estimators will overwrite some part of the style using the `sk-estimator` class\n",
       "*/\n",
       "\n",
       "/* Pipeline and ColumnTransformer style (default) */\n",
       "\n",
       "#sk-container-id-1 div.sk-toggleable {\n",
       "  /* Default theme specific background. It is overwritten whether we have a\n",
       "  specific estimator or a Pipeline/ColumnTransformer */\n",
       "  background-color: var(--sklearn-color-background);\n",
       "}\n",
       "\n",
       "/* Toggleable label */\n",
       "#sk-container-id-1 label.sk-toggleable__label {\n",
       "  cursor: pointer;\n",
       "  display: block;\n",
       "  width: 100%;\n",
       "  margin-bottom: 0;\n",
       "  padding: 0.5em;\n",
       "  box-sizing: border-box;\n",
       "  text-align: center;\n",
       "}\n",
       "\n",
       "#sk-container-id-1 label.sk-toggleable__label-arrow:before {\n",
       "  /* Arrow on the left of the label */\n",
       "  content: \"▸\";\n",
       "  float: left;\n",
       "  margin-right: 0.25em;\n",
       "  color: var(--sklearn-color-icon);\n",
       "}\n",
       "\n",
       "#sk-container-id-1 label.sk-toggleable__label-arrow:hover:before {\n",
       "  color: var(--sklearn-color-text);\n",
       "}\n",
       "\n",
       "/* Toggleable content - dropdown */\n",
       "\n",
       "#sk-container-id-1 div.sk-toggleable__content {\n",
       "  max-height: 0;\n",
       "  max-width: 0;\n",
       "  overflow: hidden;\n",
       "  text-align: left;\n",
       "  /* unfitted */\n",
       "  background-color: var(--sklearn-color-unfitted-level-0);\n",
       "}\n",
       "\n",
       "#sk-container-id-1 div.sk-toggleable__content.fitted {\n",
       "  /* fitted */\n",
       "  background-color: var(--sklearn-color-fitted-level-0);\n",
       "}\n",
       "\n",
       "#sk-container-id-1 div.sk-toggleable__content pre {\n",
       "  margin: 0.2em;\n",
       "  border-radius: 0.25em;\n",
       "  color: var(--sklearn-color-text);\n",
       "  /* unfitted */\n",
       "  background-color: var(--sklearn-color-unfitted-level-0);\n",
       "}\n",
       "\n",
       "#sk-container-id-1 div.sk-toggleable__content.fitted pre {\n",
       "  /* unfitted */\n",
       "  background-color: var(--sklearn-color-fitted-level-0);\n",
       "}\n",
       "\n",
       "#sk-container-id-1 input.sk-toggleable__control:checked~div.sk-toggleable__content {\n",
       "  /* Expand drop-down */\n",
       "  max-height: 200px;\n",
       "  max-width: 100%;\n",
       "  overflow: auto;\n",
       "}\n",
       "\n",
       "#sk-container-id-1 input.sk-toggleable__control:checked~label.sk-toggleable__label-arrow:before {\n",
       "  content: \"▾\";\n",
       "}\n",
       "\n",
       "/* Pipeline/ColumnTransformer-specific style */\n",
       "\n",
       "#sk-container-id-1 div.sk-label input.sk-toggleable__control:checked~label.sk-toggleable__label {\n",
       "  color: var(--sklearn-color-text);\n",
       "  background-color: var(--sklearn-color-unfitted-level-2);\n",
       "}\n",
       "\n",
       "#sk-container-id-1 div.sk-label.fitted input.sk-toggleable__control:checked~label.sk-toggleable__label {\n",
       "  background-color: var(--sklearn-color-fitted-level-2);\n",
       "}\n",
       "\n",
       "/* Estimator-specific style */\n",
       "\n",
       "/* Colorize estimator box */\n",
       "#sk-container-id-1 div.sk-estimator input.sk-toggleable__control:checked~label.sk-toggleable__label {\n",
       "  /* unfitted */\n",
       "  background-color: var(--sklearn-color-unfitted-level-2);\n",
       "}\n",
       "\n",
       "#sk-container-id-1 div.sk-estimator.fitted input.sk-toggleable__control:checked~label.sk-toggleable__label {\n",
       "  /* fitted */\n",
       "  background-color: var(--sklearn-color-fitted-level-2);\n",
       "}\n",
       "\n",
       "#sk-container-id-1 div.sk-label label.sk-toggleable__label,\n",
       "#sk-container-id-1 div.sk-label label {\n",
       "  /* The background is the default theme color */\n",
       "  color: var(--sklearn-color-text-on-default-background);\n",
       "}\n",
       "\n",
       "/* On hover, darken the color of the background */\n",
       "#sk-container-id-1 div.sk-label:hover label.sk-toggleable__label {\n",
       "  color: var(--sklearn-color-text);\n",
       "  background-color: var(--sklearn-color-unfitted-level-2);\n",
       "}\n",
       "\n",
       "/* Label box, darken color on hover, fitted */\n",
       "#sk-container-id-1 div.sk-label.fitted:hover label.sk-toggleable__label.fitted {\n",
       "  color: var(--sklearn-color-text);\n",
       "  background-color: var(--sklearn-color-fitted-level-2);\n",
       "}\n",
       "\n",
       "/* Estimator label */\n",
       "\n",
       "#sk-container-id-1 div.sk-label label {\n",
       "  font-family: monospace;\n",
       "  font-weight: bold;\n",
       "  display: inline-block;\n",
       "  line-height: 1.2em;\n",
       "}\n",
       "\n",
       "#sk-container-id-1 div.sk-label-container {\n",
       "  text-align: center;\n",
       "}\n",
       "\n",
       "/* Estimator-specific */\n",
       "#sk-container-id-1 div.sk-estimator {\n",
       "  font-family: monospace;\n",
       "  border: 1px dotted var(--sklearn-color-border-box);\n",
       "  border-radius: 0.25em;\n",
       "  box-sizing: border-box;\n",
       "  margin-bottom: 0.5em;\n",
       "  /* unfitted */\n",
       "  background-color: var(--sklearn-color-unfitted-level-0);\n",
       "}\n",
       "\n",
       "#sk-container-id-1 div.sk-estimator.fitted {\n",
       "  /* fitted */\n",
       "  background-color: var(--sklearn-color-fitted-level-0);\n",
       "}\n",
       "\n",
       "/* on hover */\n",
       "#sk-container-id-1 div.sk-estimator:hover {\n",
       "  /* unfitted */\n",
       "  background-color: var(--sklearn-color-unfitted-level-2);\n",
       "}\n",
       "\n",
       "#sk-container-id-1 div.sk-estimator.fitted:hover {\n",
       "  /* fitted */\n",
       "  background-color: var(--sklearn-color-fitted-level-2);\n",
       "}\n",
       "\n",
       "/* Specification for estimator info (e.g. \"i\" and \"?\") */\n",
       "\n",
       "/* Common style for \"i\" and \"?\" */\n",
       "\n",
       ".sk-estimator-doc-link,\n",
       "a:link.sk-estimator-doc-link,\n",
       "a:visited.sk-estimator-doc-link {\n",
       "  float: right;\n",
       "  font-size: smaller;\n",
       "  line-height: 1em;\n",
       "  font-family: monospace;\n",
       "  background-color: var(--sklearn-color-background);\n",
       "  border-radius: 1em;\n",
       "  height: 1em;\n",
       "  width: 1em;\n",
       "  text-decoration: none !important;\n",
       "  margin-left: 1ex;\n",
       "  /* unfitted */\n",
       "  border: var(--sklearn-color-unfitted-level-1) 1pt solid;\n",
       "  color: var(--sklearn-color-unfitted-level-1);\n",
       "}\n",
       "\n",
       ".sk-estimator-doc-link.fitted,\n",
       "a:link.sk-estimator-doc-link.fitted,\n",
       "a:visited.sk-estimator-doc-link.fitted {\n",
       "  /* fitted */\n",
       "  border: var(--sklearn-color-fitted-level-1) 1pt solid;\n",
       "  color: var(--sklearn-color-fitted-level-1);\n",
       "}\n",
       "\n",
       "/* On hover */\n",
       "div.sk-estimator:hover .sk-estimator-doc-link:hover,\n",
       ".sk-estimator-doc-link:hover,\n",
       "div.sk-label-container:hover .sk-estimator-doc-link:hover,\n",
       ".sk-estimator-doc-link:hover {\n",
       "  /* unfitted */\n",
       "  background-color: var(--sklearn-color-unfitted-level-3);\n",
       "  color: var(--sklearn-color-background);\n",
       "  text-decoration: none;\n",
       "}\n",
       "\n",
       "div.sk-estimator.fitted:hover .sk-estimator-doc-link.fitted:hover,\n",
       ".sk-estimator-doc-link.fitted:hover,\n",
       "div.sk-label-container:hover .sk-estimator-doc-link.fitted:hover,\n",
       ".sk-estimator-doc-link.fitted:hover {\n",
       "  /* fitted */\n",
       "  background-color: var(--sklearn-color-fitted-level-3);\n",
       "  color: var(--sklearn-color-background);\n",
       "  text-decoration: none;\n",
       "}\n",
       "\n",
       "/* Span, style for the box shown on hovering the info icon */\n",
       ".sk-estimator-doc-link span {\n",
       "  display: none;\n",
       "  z-index: 9999;\n",
       "  position: relative;\n",
       "  font-weight: normal;\n",
       "  right: .2ex;\n",
       "  padding: .5ex;\n",
       "  margin: .5ex;\n",
       "  width: min-content;\n",
       "  min-width: 20ex;\n",
       "  max-width: 50ex;\n",
       "  color: var(--sklearn-color-text);\n",
       "  box-shadow: 2pt 2pt 4pt #999;\n",
       "  /* unfitted */\n",
       "  background: var(--sklearn-color-unfitted-level-0);\n",
       "  border: .5pt solid var(--sklearn-color-unfitted-level-3);\n",
       "}\n",
       "\n",
       ".sk-estimator-doc-link.fitted span {\n",
       "  /* fitted */\n",
       "  background: var(--sklearn-color-fitted-level-0);\n",
       "  border: var(--sklearn-color-fitted-level-3);\n",
       "}\n",
       "\n",
       ".sk-estimator-doc-link:hover span {\n",
       "  display: block;\n",
       "}\n",
       "\n",
       "/* \"?\"-specific style due to the `<a>` HTML tag */\n",
       "\n",
       "#sk-container-id-1 a.estimator_doc_link {\n",
       "  float: right;\n",
       "  font-size: 1rem;\n",
       "  line-height: 1em;\n",
       "  font-family: monospace;\n",
       "  background-color: var(--sklearn-color-background);\n",
       "  border-radius: 1rem;\n",
       "  height: 1rem;\n",
       "  width: 1rem;\n",
       "  text-decoration: none;\n",
       "  /* unfitted */\n",
       "  color: var(--sklearn-color-unfitted-level-1);\n",
       "  border: var(--sklearn-color-unfitted-level-1) 1pt solid;\n",
       "}\n",
       "\n",
       "#sk-container-id-1 a.estimator_doc_link.fitted {\n",
       "  /* fitted */\n",
       "  border: var(--sklearn-color-fitted-level-1) 1pt solid;\n",
       "  color: var(--sklearn-color-fitted-level-1);\n",
       "}\n",
       "\n",
       "/* On hover */\n",
       "#sk-container-id-1 a.estimator_doc_link:hover {\n",
       "  /* unfitted */\n",
       "  background-color: var(--sklearn-color-unfitted-level-3);\n",
       "  color: var(--sklearn-color-background);\n",
       "  text-decoration: none;\n",
       "}\n",
       "\n",
       "#sk-container-id-1 a.estimator_doc_link.fitted:hover {\n",
       "  /* fitted */\n",
       "  background-color: var(--sklearn-color-fitted-level-3);\n",
       "}\n",
       "</style><div id=\"sk-container-id-1\" class=\"sk-top-container\"><div class=\"sk-text-repr-fallback\"><pre>Perceptron(max_iter=15)</pre><b>In a Jupyter environment, please rerun this cell to show the HTML representation or trust the notebook. <br />On GitHub, the HTML representation is unable to render, please try loading this page with nbviewer.org.</b></div><div class=\"sk-container\" hidden><div class=\"sk-item\"><div class=\"sk-estimator fitted sk-toggleable\"><input class=\"sk-toggleable__control sk-hidden--visually\" id=\"sk-estimator-id-1\" type=\"checkbox\" checked><label for=\"sk-estimator-id-1\" class=\"sk-toggleable__label fitted sk-toggleable__label-arrow fitted\">&nbsp;&nbsp;Perceptron<a class=\"sk-estimator-doc-link fitted\" rel=\"noreferrer\" target=\"_blank\" href=\"https://scikit-learn.org/1.5/modules/generated/sklearn.linear_model.Perceptron.html\">?<span>Documentation for Perceptron</span></a><span class=\"sk-estimator-doc-link fitted\">i<span>Fitted</span></span></label><div class=\"sk-toggleable__content fitted\"><pre>Perceptron(max_iter=15)</pre></div> </div></div></div></div>"
      ],
      "text/plain": [
       "Perceptron(max_iter=15)"
      ]
     },
     "execution_count": 17,
     "metadata": {},
     "output_type": "execute_result"
    }
   ],
   "source": [
    "perceptron_model = Perceptron(max_iter=15)\n",
    "perceptron_model.fit(X_train_vec, y_train)"
   ]
  },
  {
   "cell_type": "markdown",
   "id": "801f3743-0b5d-4ae3-9921-5c8356aa93eb",
   "metadata": {
    "id": "801f3743-0b5d-4ae3-9921-5c8356aa93eb"
   },
   "source": [
    "### 9 - Perceptron - Model evaluation\n",
    "Run the model to assess accuracy."
   ]
  },
  {
   "cell_type": "code",
   "execution_count": 18,
   "id": "fc5f4882-34f6-4902-ac65-f6b07b401e36",
   "metadata": {
    "id": "fc5f4882-34f6-4902-ac65-f6b07b401e36",
    "tags": []
   },
   "outputs": [],
   "source": [
    "accuracy = perceptron_model.score(X_test_vec, y_test)"
   ]
  },
  {
   "cell_type": "markdown",
   "id": "5d87e5bd-41be-46bd-b7ef-b5cce750bd54",
   "metadata": {
    "id": "5d87e5bd-41be-46bd-b7ef-b5cce750bd54"
   },
   "source": [
    "### 10 - Perceptron - Calculate the Accuracy"
   ]
  },
  {
   "cell_type": "code",
   "execution_count": 19,
   "id": "47a34ea8-12ae-4180-9aab-5526b1965fc5",
   "metadata": {
    "id": "47a34ea8-12ae-4180-9aab-5526b1965fc5",
    "tags": []
   },
   "outputs": [
    {
     "name": "stdout",
     "output_type": "stream",
     "text": [
      "Perceptron\n",
      "Testing data accuracy: 0.85492\n"
     ]
    }
   ],
   "source": [
    "# Print results\n",
    "print('Perceptron')\n",
    "print('Testing data accuracy:', accuracy)"
   ]
  },
  {
   "cell_type": "markdown",
   "id": "3bdfed53-8dfc-40bd-b9c7-0b64f94fbb4c",
   "metadata": {
    "id": "3bdfed53-8dfc-40bd-b9c7-0b64f94fbb4c"
   },
   "source": [
    "### 11 - Export Models\n",
    "Export the models"
   ]
  },
  {
   "cell_type": "code",
   "execution_count": 21,
   "id": "36fbaff3-2aff-45ab-9cbe-b77b2a57043c",
   "metadata": {
    "id": "36fbaff3-2aff-45ab-9cbe-b77b2a57043c"
   },
   "outputs": [],
   "source": [
    "import pickle\n",
    "\n",
    "#Save the models in disk\n",
    "with open('nb_classifier.pkl', 'wb') as file:\n",
    "    pickle.dump(nb_classifier , file)\n",
    "\n",
    "with open('perceptron_model.pkl', 'wb') as file:\n",
    "    pickle.dump(perceptron_model , file)\n"
   ]
  }
 ],
 "metadata": {
  "colab": {
   "provenance": []
  },
  "kernelspec": {
   "display_name": "Python 3 (ipykernel)",
   "language": "python",
   "name": "python3"
  },
  "language_info": {
   "codemirror_mode": {
    "name": "ipython",
    "version": 3
   },
   "file_extension": ".py",
   "mimetype": "text/x-python",
   "name": "python",
   "nbconvert_exporter": "python",
   "pygments_lexer": "ipython3",
   "version": "3.12.2"
  },
  "vscode": {
   "interpreter": {
    "hash": "75e943d872e43f06592aae71e32e08f15e458d56560d2ac16e09cfa2e3c2b62c"
   }
  }
 },
 "nbformat": 4,
 "nbformat_minor": 5
}
